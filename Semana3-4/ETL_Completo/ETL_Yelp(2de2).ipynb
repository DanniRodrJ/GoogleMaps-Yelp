{
 "cells": [
  {
   "cell_type": "code",
   "execution_count": 4,
   "id": "5575dc7e-fb0f-4647-9e4e-f0a674f02295",
   "metadata": {},
   "outputs": [
    {
     "name": "stdout",
     "output_type": "stream",
     "text": [
      "Requirement already satisfied: gcsfs in /opt/conda/lib/python3.7/site-packages (2023.1.0)\n",
      "Requirement already satisfied: aiohttp!=4.0.0a0,!=4.0.0a1 in /opt/conda/lib/python3.7/site-packages (from gcsfs) (3.8.4)\n",
      "Requirement already satisfied: decorator>4.1.2 in /opt/conda/lib/python3.7/site-packages (from gcsfs) (5.1.1)\n",
      "Requirement already satisfied: fsspec==2023.1.0 in /opt/conda/lib/python3.7/site-packages (from gcsfs) (2023.1.0)\n",
      "Requirement already satisfied: google-auth>=1.2 in /opt/conda/lib/python3.7/site-packages (from gcsfs) (2.20.0)\n",
      "Requirement already satisfied: google-auth-oauthlib in /opt/conda/lib/python3.7/site-packages (from gcsfs) (1.0.0)\n",
      "Requirement already satisfied: google-cloud-storage in /opt/conda/lib/python3.7/site-packages (from gcsfs) (2.9.0)\n",
      "Requirement already satisfied: requests in /opt/conda/lib/python3.7/site-packages (from gcsfs) (2.31.0)\n",
      "Requirement already satisfied: attrs>=17.3.0 in /opt/conda/lib/python3.7/site-packages (from aiohttp!=4.0.0a0,!=4.0.0a1->gcsfs) (23.1.0)\n",
      "Requirement already satisfied: charset-normalizer<4.0,>=2.0 in /opt/conda/lib/python3.7/site-packages (from aiohttp!=4.0.0a0,!=4.0.0a1->gcsfs) (3.1.0)\n",
      "Requirement already satisfied: multidict<7.0,>=4.5 in /opt/conda/lib/python3.7/site-packages (from aiohttp!=4.0.0a0,!=4.0.0a1->gcsfs) (6.0.4)\n",
      "Requirement already satisfied: async-timeout<5.0,>=4.0.0a3 in /opt/conda/lib/python3.7/site-packages (from aiohttp!=4.0.0a0,!=4.0.0a1->gcsfs) (4.0.2)\n",
      "Requirement already satisfied: yarl<2.0,>=1.0 in /opt/conda/lib/python3.7/site-packages (from aiohttp!=4.0.0a0,!=4.0.0a1->gcsfs) (1.9.2)\n",
      "Requirement already satisfied: frozenlist>=1.1.1 in /opt/conda/lib/python3.7/site-packages (from aiohttp!=4.0.0a0,!=4.0.0a1->gcsfs) (1.3.3)\n",
      "Requirement already satisfied: aiosignal>=1.1.2 in /opt/conda/lib/python3.7/site-packages (from aiohttp!=4.0.0a0,!=4.0.0a1->gcsfs) (1.3.1)\n",
      "Requirement already satisfied: asynctest==0.13.0 in /opt/conda/lib/python3.7/site-packages (from aiohttp!=4.0.0a0,!=4.0.0a1->gcsfs) (0.13.0)\n",
      "Requirement already satisfied: typing-extensions>=3.7.4 in /opt/conda/lib/python3.7/site-packages (from aiohttp!=4.0.0a0,!=4.0.0a1->gcsfs) (4.6.3)\n",
      "Requirement already satisfied: cachetools<6.0,>=2.0.0 in /opt/conda/lib/python3.7/site-packages (from google-auth>=1.2->gcsfs) (5.3.1)\n",
      "Requirement already satisfied: pyasn1-modules>=0.2.1 in /opt/conda/lib/python3.7/site-packages (from google-auth>=1.2->gcsfs) (0.3.0)\n",
      "Requirement already satisfied: rsa<5,>=3.1.4 in /opt/conda/lib/python3.7/site-packages (from google-auth>=1.2->gcsfs) (4.9)\n",
      "Requirement already satisfied: six>=1.9.0 in /opt/conda/lib/python3.7/site-packages (from google-auth>=1.2->gcsfs) (1.16.0)\n",
      "Requirement already satisfied: urllib3<2.0 in /opt/conda/lib/python3.7/site-packages (from google-auth>=1.2->gcsfs) (1.26.16)\n",
      "Requirement already satisfied: requests-oauthlib>=0.7.0 in /opt/conda/lib/python3.7/site-packages (from google-auth-oauthlib->gcsfs) (1.3.1)\n",
      "Requirement already satisfied: google-api-core!=2.0.*,!=2.1.*,!=2.2.*,!=2.3.0,<3.0.0dev,>=1.31.5 in /opt/conda/lib/python3.7/site-packages (from google-cloud-storage->gcsfs) (1.34.0)\n",
      "Requirement already satisfied: google-cloud-core<3.0dev,>=2.3.0 in /opt/conda/lib/python3.7/site-packages (from google-cloud-storage->gcsfs) (2.3.2)\n",
      "Requirement already satisfied: google-resumable-media>=2.3.2 in /opt/conda/lib/python3.7/site-packages (from google-cloud-storage->gcsfs) (2.5.0)\n",
      "Requirement already satisfied: idna<4,>=2.5 in /opt/conda/lib/python3.7/site-packages (from requests->gcsfs) (3.4)\n",
      "Requirement already satisfied: certifi>=2017.4.17 in /opt/conda/lib/python3.7/site-packages (from requests->gcsfs) (2023.7.22)\n",
      "Requirement already satisfied: importlib-metadata in /opt/conda/lib/python3.7/site-packages (from attrs>=17.3.0->aiohttp!=4.0.0a0,!=4.0.0a1->gcsfs) (4.11.4)\n",
      "Requirement already satisfied: googleapis-common-protos<2.0dev,>=1.56.2 in /opt/conda/lib/python3.7/site-packages (from google-api-core!=2.0.*,!=2.1.*,!=2.2.*,!=2.3.0,<3.0.0dev,>=1.31.5->google-cloud-storage->gcsfs) (1.59.1)\n",
      "Requirement already satisfied: protobuf!=3.20.0,!=3.20.1,!=4.21.0,!=4.21.1,!=4.21.2,!=4.21.3,!=4.21.4,!=4.21.5,<4.0.0dev,>=3.19.5 in /opt/conda/lib/python3.7/site-packages (from google-api-core!=2.0.*,!=2.1.*,!=2.2.*,!=2.3.0,<3.0.0dev,>=1.31.5->google-cloud-storage->gcsfs) (3.20.3)\n",
      "Requirement already satisfied: google-crc32c<2.0dev,>=1.0 in /opt/conda/lib/python3.7/site-packages (from google-resumable-media>=2.3.2->google-cloud-storage->gcsfs) (1.5.0)\n",
      "Requirement already satisfied: pyasn1<0.6.0,>=0.4.6 in /opt/conda/lib/python3.7/site-packages (from pyasn1-modules>=0.2.1->google-auth>=1.2->gcsfs) (0.5.0)\n",
      "Requirement already satisfied: oauthlib>=3.0.0 in /opt/conda/lib/python3.7/site-packages (from requests-oauthlib>=0.7.0->google-auth-oauthlib->gcsfs) (3.2.2)\n",
      "Requirement already satisfied: zipp>=0.5 in /opt/conda/lib/python3.7/site-packages (from importlib-metadata->attrs>=17.3.0->aiohttp!=4.0.0a0,!=4.0.0a1->gcsfs) (3.15.0)\n",
      "\u001b[33mWARNING: Running pip as the 'root' user can result in broken permissions and conflicting behaviour with the system package manager. It is recommended to use a virtual environment instead: https://pip.pypa.io/warnings/venv\u001b[0m\u001b[33m\n",
      "\u001b[0mNote: you may need to restart the kernel to use updated packages.\n"
     ]
    }
   ],
   "source": [
    "%pip install gcsfs"
   ]
  },
  {
   "cell_type": "code",
   "execution_count": 5,
   "id": "4c42d84a-4616-4efc-b24e-49a80b84a4d8",
   "metadata": {},
   "outputs": [
    {
     "name": "stdout",
     "output_type": "stream",
     "text": [
      "Requirement already satisfied: fsspec in /opt/conda/lib/python3.7/site-packages (2023.1.0)\n",
      "\u001b[33mWARNING: Running pip as the 'root' user can result in broken permissions and conflicting behaviour with the system package manager. It is recommended to use a virtual environment instead: https://pip.pypa.io/warnings/venv\u001b[0m\u001b[33m\n",
      "\u001b[0mNote: you may need to restart the kernel to use updated packages.\n"
     ]
    }
   ],
   "source": [
    "%pip install fsspec"
   ]
  },
  {
   "cell_type": "code",
   "execution_count": 1,
   "id": "87d6b1b6-d3f5-437b-a5c2-63b8b4ecf3b5",
   "metadata": {},
   "outputs": [],
   "source": [
    "import pandas as pd"
   ]
  },
  {
   "cell_type": "code",
   "execution_count": 2,
   "id": "0ba8356a-1d44-407d-9bc1-a35b9ff524e2",
   "metadata": {},
   "outputs": [],
   "source": [
    "df_review = pd.read_parquet('gs://data_cruda/Yelp/review.parquet')"
   ]
  },
  {
   "cell_type": "raw",
   "id": "c14d27bd-a861-47a2-90b9-9dafde6def52",
   "metadata": {},
   "source": [
    "df_review.shape"
   ]
  },
  {
   "cell_type": "code",
   "execution_count": 3,
   "id": "6f38eaf3-acc6-47f3-a1d0-9cb11fe7120d",
   "metadata": {},
   "outputs": [
    {
     "data": {
      "text/plain": [
       "(24645, 7)"
      ]
     },
     "execution_count": 3,
     "metadata": {},
     "output_type": "execute_result"
    }
   ],
   "source": [
    "df_business = pd.read_parquet('gs://data_limpia/Yelp/business.parquet')\n",
    "df_business.shape"
   ]
  },
  {
   "cell_type": "code",
   "execution_count": 4,
   "id": "2aa86221-a9df-4c5e-8859-6976c6d81f99",
   "metadata": {},
   "outputs": [],
   "source": [
    "fecha_desde = pd.to_datetime('2018-01-01')\n",
    "fecha_hasta = pd.to_datetime('2021-12-31')\n",
    "\n",
    "# Filtra las filas que están dentro del rango de fechas [fecha_desde, fecha_hasta]\n",
    "df_review = df_review[(df_review['date'] >= fecha_desde) & (df_review['date'] <= fecha_hasta)]\n",
    "\n",
    "# Crea df_carga con las filas que están después de la fecha_hasta\n",
    "df_carga = df_review[df_review['date'] > fecha_hasta]\n"
   ]
  },
  {
   "cell_type": "code",
   "execution_count": 5,
   "id": "dadbf33c-e887-49f6-832c-754ca4b69c2b",
   "metadata": {},
   "outputs": [
    {
     "data": {
      "text/plain": [
       "(886259, 10)"
      ]
     },
     "execution_count": 5,
     "metadata": {},
     "output_type": "execute_result"
    }
   ],
   "source": [
    "#Filtramos el df 'review'\n",
    "review_filtrado = df_review[df_review[\"business_id\"].isin(df_business[\"business_id\"])]\n",
    "review_filtrado = review_filtrado.merge(df_business[[\"business_id\", \"state\"]], on=\"business_id\", how=\"inner\")\n",
    "review_filtrado.shape"
   ]
  },
  {
   "cell_type": "code",
   "execution_count": 6,
   "id": "b342787b-dacc-416b-b294-2d5d49af95e0",
   "metadata": {},
   "outputs": [
    {
     "data": {
      "text/html": [
       "<div>\n",
       "<style scoped>\n",
       "    .dataframe tbody tr th:only-of-type {\n",
       "        vertical-align: middle;\n",
       "    }\n",
       "\n",
       "    .dataframe tbody tr th {\n",
       "        vertical-align: top;\n",
       "    }\n",
       "\n",
       "    .dataframe thead th {\n",
       "        text-align: right;\n",
       "    }\n",
       "</style>\n",
       "<table border=\"1\" class=\"dataframe\">\n",
       "  <thead>\n",
       "    <tr style=\"text-align: right;\">\n",
       "      <th></th>\n",
       "      <th>review_id</th>\n",
       "      <th>user_id</th>\n",
       "      <th>business_id</th>\n",
       "      <th>stars</th>\n",
       "      <th>useful</th>\n",
       "      <th>funny</th>\n",
       "      <th>cool</th>\n",
       "      <th>text</th>\n",
       "      <th>date</th>\n",
       "      <th>state</th>\n",
       "    </tr>\n",
       "  </thead>\n",
       "  <tbody>\n",
       "    <tr>\n",
       "      <th>0</th>\n",
       "      <td>KU_O5udG6zpxOg-VcAEodg</td>\n",
       "      <td>mh_-eMZ6K5RLWhZyISBhwA</td>\n",
       "      <td>XQfwVwDr-v0ZS3_CbbE5Xw</td>\n",
       "      <td>3</td>\n",
       "      <td>0</td>\n",
       "      <td>0</td>\n",
       "      <td>0</td>\n",
       "      <td>If you decide to eat here, just be aware it is...</td>\n",
       "      <td>2018-07-07 22:09:11</td>\n",
       "      <td>PA</td>\n",
       "    </tr>\n",
       "    <tr>\n",
       "      <th>1</th>\n",
       "      <td>uyS0ysaMd4mzw5rNYbgcjA</td>\n",
       "      <td>ql0XsKTjM7VeBAUqbphQDw</td>\n",
       "      <td>XQfwVwDr-v0ZS3_CbbE5Xw</td>\n",
       "      <td>3</td>\n",
       "      <td>0</td>\n",
       "      <td>0</td>\n",
       "      <td>0</td>\n",
       "      <td>Food is fantastic, service is quite awful!  Ca...</td>\n",
       "      <td>2018-03-24 17:50:37</td>\n",
       "      <td>PA</td>\n",
       "    </tr>\n",
       "    <tr>\n",
       "      <th>2</th>\n",
       "      <td>R10wk4xEHX9r-qs5Z_2vvw</td>\n",
       "      <td>ZeBgfIMxp9K8OFmlXmQ3yA</td>\n",
       "      <td>XQfwVwDr-v0ZS3_CbbE5Xw</td>\n",
       "      <td>3</td>\n",
       "      <td>0</td>\n",
       "      <td>0</td>\n",
       "      <td>0</td>\n",
       "      <td>Update: I deducted a star because they no long...</td>\n",
       "      <td>2018-07-21 09:26:33</td>\n",
       "      <td>PA</td>\n",
       "    </tr>\n",
       "    <tr>\n",
       "      <th>3</th>\n",
       "      <td>pDN3hRBarmGWXbK64A83MA</td>\n",
       "      <td>IBrReMAeZkVIbjZIe1E_Hw</td>\n",
       "      <td>XQfwVwDr-v0ZS3_CbbE5Xw</td>\n",
       "      <td>1</td>\n",
       "      <td>0</td>\n",
       "      <td>0</td>\n",
       "      <td>0</td>\n",
       "      <td>never coming back here again. all of the glass...</td>\n",
       "      <td>2018-09-08 17:03:53</td>\n",
       "      <td>PA</td>\n",
       "    </tr>\n",
       "    <tr>\n",
       "      <th>4</th>\n",
       "      <td>HxWtq5q4OQ-4osStqn54bA</td>\n",
       "      <td>k4_8Cw2icH0nFV5MskGK1A</td>\n",
       "      <td>XQfwVwDr-v0ZS3_CbbE5Xw</td>\n",
       "      <td>2</td>\n",
       "      <td>0</td>\n",
       "      <td>0</td>\n",
       "      <td>0</td>\n",
       "      <td>Unfortunately the weekend chef doesn't know ho...</td>\n",
       "      <td>2018-09-09 14:30:29</td>\n",
       "      <td>PA</td>\n",
       "    </tr>\n",
       "  </tbody>\n",
       "</table>\n",
       "</div>"
      ],
      "text/plain": [
       "                review_id                 user_id             business_id  \\\n",
       "0  KU_O5udG6zpxOg-VcAEodg  mh_-eMZ6K5RLWhZyISBhwA  XQfwVwDr-v0ZS3_CbbE5Xw   \n",
       "1  uyS0ysaMd4mzw5rNYbgcjA  ql0XsKTjM7VeBAUqbphQDw  XQfwVwDr-v0ZS3_CbbE5Xw   \n",
       "2  R10wk4xEHX9r-qs5Z_2vvw  ZeBgfIMxp9K8OFmlXmQ3yA  XQfwVwDr-v0ZS3_CbbE5Xw   \n",
       "3  pDN3hRBarmGWXbK64A83MA  IBrReMAeZkVIbjZIe1E_Hw  XQfwVwDr-v0ZS3_CbbE5Xw   \n",
       "4  HxWtq5q4OQ-4osStqn54bA  k4_8Cw2icH0nFV5MskGK1A  XQfwVwDr-v0ZS3_CbbE5Xw   \n",
       "\n",
       "   stars  useful  funny  cool  \\\n",
       "0      3       0      0     0   \n",
       "1      3       0      0     0   \n",
       "2      3       0      0     0   \n",
       "3      1       0      0     0   \n",
       "4      2       0      0     0   \n",
       "\n",
       "                                                text                date state  \n",
       "0  If you decide to eat here, just be aware it is... 2018-07-07 22:09:11    PA  \n",
       "1  Food is fantastic, service is quite awful!  Ca... 2018-03-24 17:50:37    PA  \n",
       "2  Update: I deducted a star because they no long... 2018-07-21 09:26:33    PA  \n",
       "3  never coming back here again. all of the glass... 2018-09-08 17:03:53    PA  \n",
       "4  Unfortunately the weekend chef doesn't know ho... 2018-09-09 14:30:29    PA  "
      ]
     },
     "execution_count": 6,
     "metadata": {},
     "output_type": "execute_result"
    }
   ],
   "source": [
    "review_filtrado.head()"
   ]
  },
  {
   "cell_type": "code",
   "execution_count": 7,
   "id": "62d4477b-1789-4352-831b-1d0a1edd9b52",
   "metadata": {},
   "outputs": [
    {
     "data": {
      "text/plain": [
       "(886259, 10)"
      ]
     },
     "execution_count": 7,
     "metadata": {},
     "output_type": "execute_result"
    }
   ],
   "source": [
    "review_filtrado = review_filtrado.reindex()\n",
    "review_filtrado.shape"
   ]
  },
  {
   "cell_type": "code",
   "execution_count": 8,
   "id": "451f18a4-1031-4a58-8849-4dcfd0a0578a",
   "metadata": {},
   "outputs": [
    {
     "data": {
      "text/plain": [
       "Index(['review_id', 'user_id', 'business_id', 'stars', 'useful', 'funny',\n",
       "       'cool', 'text', 'date', 'state'],\n",
       "      dtype='object')"
      ]
     },
     "execution_count": 8,
     "metadata": {},
     "output_type": "execute_result"
    }
   ],
   "source": [
    "review_filtrado.columns"
   ]
  },
  {
   "cell_type": "markdown",
   "id": "966da897-53a2-469c-bea3-86c254f1bffb",
   "metadata": {},
   "source": [
    "# Creamos la tabla dates"
   ]
  },
  {
   "cell_type": "code",
   "execution_count": 9,
   "id": "dfdb434c-0701-4000-9794-8606472fbea7",
   "metadata": {},
   "outputs": [
    {
     "data": {
      "text/html": [
       "<div>\n",
       "<style scoped>\n",
       "    .dataframe tbody tr th:only-of-type {\n",
       "        vertical-align: middle;\n",
       "    }\n",
       "\n",
       "    .dataframe tbody tr th {\n",
       "        vertical-align: top;\n",
       "    }\n",
       "\n",
       "    .dataframe thead th {\n",
       "        text-align: right;\n",
       "    }\n",
       "</style>\n",
       "<table border=\"1\" class=\"dataframe\">\n",
       "  <thead>\n",
       "    <tr style=\"text-align: right;\">\n",
       "      <th></th>\n",
       "      <th>date_id</th>\n",
       "      <th>date</th>\n",
       "    </tr>\n",
       "  </thead>\n",
       "  <tbody>\n",
       "    <tr>\n",
       "      <th>0</th>\n",
       "      <td>0</td>\n",
       "      <td>2018-01-01</td>\n",
       "    </tr>\n",
       "    <tr>\n",
       "      <th>1</th>\n",
       "      <td>1</td>\n",
       "      <td>2018-01-02</td>\n",
       "    </tr>\n",
       "    <tr>\n",
       "      <th>2</th>\n",
       "      <td>2</td>\n",
       "      <td>2018-01-03</td>\n",
       "    </tr>\n",
       "    <tr>\n",
       "      <th>3</th>\n",
       "      <td>3</td>\n",
       "      <td>2018-01-04</td>\n",
       "    </tr>\n",
       "    <tr>\n",
       "      <th>4</th>\n",
       "      <td>4</td>\n",
       "      <td>2018-01-05</td>\n",
       "    </tr>\n",
       "    <tr>\n",
       "      <th>5</th>\n",
       "      <td>5</td>\n",
       "      <td>2018-01-06</td>\n",
       "    </tr>\n",
       "    <tr>\n",
       "      <th>6</th>\n",
       "      <td>6</td>\n",
       "      <td>2018-01-07</td>\n",
       "    </tr>\n",
       "    <tr>\n",
       "      <th>7</th>\n",
       "      <td>7</td>\n",
       "      <td>2018-01-08</td>\n",
       "    </tr>\n",
       "    <tr>\n",
       "      <th>8</th>\n",
       "      <td>8</td>\n",
       "      <td>2018-01-09</td>\n",
       "    </tr>\n",
       "    <tr>\n",
       "      <th>9</th>\n",
       "      <td>9</td>\n",
       "      <td>2018-01-10</td>\n",
       "    </tr>\n",
       "  </tbody>\n",
       "</table>\n",
       "</div>"
      ],
      "text/plain": [
       "   date_id        date\n",
       "0        0  2018-01-01\n",
       "1        1  2018-01-02\n",
       "2        2  2018-01-03\n",
       "3        3  2018-01-04\n",
       "4        4  2018-01-05\n",
       "5        5  2018-01-06\n",
       "6        6  2018-01-07\n",
       "7        7  2018-01-08\n",
       "8        8  2018-01-09\n",
       "9        9  2018-01-10"
      ]
     },
     "execution_count": 9,
     "metadata": {},
     "output_type": "execute_result"
    }
   ],
   "source": [
    "unique_dates = review_filtrado['date'].dt.date.unique()\n",
    "\n",
    "# Creamos un DataFrame con las fechas únicas\n",
    "dates = pd.DataFrame({'date': unique_dates})\n",
    "dates = dates.sort_values(by='date')\n",
    "\n",
    "dates = dates.reset_index(drop=True).reset_index().rename(columns={'index': 'date_id'})\n",
    "\n",
    "dates.head(10)"
   ]
  },
  {
   "cell_type": "code",
   "execution_count": 10,
   "id": "4bbacd15-51c7-426c-b9b6-31fedc4a1933",
   "metadata": {},
   "outputs": [
    {
     "data": {
      "text/html": [
       "<div>\n",
       "<style scoped>\n",
       "    .dataframe tbody tr th:only-of-type {\n",
       "        vertical-align: middle;\n",
       "    }\n",
       "\n",
       "    .dataframe tbody tr th {\n",
       "        vertical-align: top;\n",
       "    }\n",
       "\n",
       "    .dataframe thead th {\n",
       "        text-align: right;\n",
       "    }\n",
       "</style>\n",
       "<table border=\"1\" class=\"dataframe\">\n",
       "  <thead>\n",
       "    <tr style=\"text-align: right;\">\n",
       "      <th></th>\n",
       "      <th>review_id</th>\n",
       "      <th>user_id</th>\n",
       "      <th>business_id</th>\n",
       "      <th>stars</th>\n",
       "      <th>useful</th>\n",
       "      <th>funny</th>\n",
       "      <th>cool</th>\n",
       "      <th>text</th>\n",
       "      <th>date_id</th>\n",
       "      <th>state</th>\n",
       "    </tr>\n",
       "  </thead>\n",
       "  <tbody>\n",
       "    <tr>\n",
       "      <th>0</th>\n",
       "      <td>KU_O5udG6zpxOg-VcAEodg</td>\n",
       "      <td>mh_-eMZ6K5RLWhZyISBhwA</td>\n",
       "      <td>XQfwVwDr-v0ZS3_CbbE5Xw</td>\n",
       "      <td>3</td>\n",
       "      <td>0</td>\n",
       "      <td>0</td>\n",
       "      <td>0</td>\n",
       "      <td>If you decide to eat here, just be aware it is...</td>\n",
       "      <td>187</td>\n",
       "      <td>PA</td>\n",
       "    </tr>\n",
       "    <tr>\n",
       "      <th>1</th>\n",
       "      <td>uyS0ysaMd4mzw5rNYbgcjA</td>\n",
       "      <td>ql0XsKTjM7VeBAUqbphQDw</td>\n",
       "      <td>XQfwVwDr-v0ZS3_CbbE5Xw</td>\n",
       "      <td>3</td>\n",
       "      <td>0</td>\n",
       "      <td>0</td>\n",
       "      <td>0</td>\n",
       "      <td>Food is fantastic, service is quite awful!  Ca...</td>\n",
       "      <td>82</td>\n",
       "      <td>PA</td>\n",
       "    </tr>\n",
       "    <tr>\n",
       "      <th>2</th>\n",
       "      <td>R10wk4xEHX9r-qs5Z_2vvw</td>\n",
       "      <td>ZeBgfIMxp9K8OFmlXmQ3yA</td>\n",
       "      <td>XQfwVwDr-v0ZS3_CbbE5Xw</td>\n",
       "      <td>3</td>\n",
       "      <td>0</td>\n",
       "      <td>0</td>\n",
       "      <td>0</td>\n",
       "      <td>Update: I deducted a star because they no long...</td>\n",
       "      <td>201</td>\n",
       "      <td>PA</td>\n",
       "    </tr>\n",
       "    <tr>\n",
       "      <th>3</th>\n",
       "      <td>pDN3hRBarmGWXbK64A83MA</td>\n",
       "      <td>IBrReMAeZkVIbjZIe1E_Hw</td>\n",
       "      <td>XQfwVwDr-v0ZS3_CbbE5Xw</td>\n",
       "      <td>1</td>\n",
       "      <td>0</td>\n",
       "      <td>0</td>\n",
       "      <td>0</td>\n",
       "      <td>never coming back here again. all of the glass...</td>\n",
       "      <td>250</td>\n",
       "      <td>PA</td>\n",
       "    </tr>\n",
       "    <tr>\n",
       "      <th>4</th>\n",
       "      <td>HxWtq5q4OQ-4osStqn54bA</td>\n",
       "      <td>k4_8Cw2icH0nFV5MskGK1A</td>\n",
       "      <td>XQfwVwDr-v0ZS3_CbbE5Xw</td>\n",
       "      <td>2</td>\n",
       "      <td>0</td>\n",
       "      <td>0</td>\n",
       "      <td>0</td>\n",
       "      <td>Unfortunately the weekend chef doesn't know ho...</td>\n",
       "      <td>251</td>\n",
       "      <td>PA</td>\n",
       "    </tr>\n",
       "  </tbody>\n",
       "</table>\n",
       "</div>"
      ],
      "text/plain": [
       "                review_id                 user_id             business_id  \\\n",
       "0  KU_O5udG6zpxOg-VcAEodg  mh_-eMZ6K5RLWhZyISBhwA  XQfwVwDr-v0ZS3_CbbE5Xw   \n",
       "1  uyS0ysaMd4mzw5rNYbgcjA  ql0XsKTjM7VeBAUqbphQDw  XQfwVwDr-v0ZS3_CbbE5Xw   \n",
       "2  R10wk4xEHX9r-qs5Z_2vvw  ZeBgfIMxp9K8OFmlXmQ3yA  XQfwVwDr-v0ZS3_CbbE5Xw   \n",
       "3  pDN3hRBarmGWXbK64A83MA  IBrReMAeZkVIbjZIe1E_Hw  XQfwVwDr-v0ZS3_CbbE5Xw   \n",
       "4  HxWtq5q4OQ-4osStqn54bA  k4_8Cw2icH0nFV5MskGK1A  XQfwVwDr-v0ZS3_CbbE5Xw   \n",
       "\n",
       "   stars  useful  funny  cool  \\\n",
       "0      3       0      0     0   \n",
       "1      3       0      0     0   \n",
       "2      3       0      0     0   \n",
       "3      1       0      0     0   \n",
       "4      2       0      0     0   \n",
       "\n",
       "                                                text  date_id state  \n",
       "0  If you decide to eat here, just be aware it is...      187    PA  \n",
       "1  Food is fantastic, service is quite awful!  Ca...       82    PA  \n",
       "2  Update: I deducted a star because they no long...      201    PA  \n",
       "3  never coming back here again. all of the glass...      250    PA  \n",
       "4  Unfortunately the weekend chef doesn't know ho...      251    PA  "
      ]
     },
     "execution_count": 10,
     "metadata": {},
     "output_type": "execute_result"
    }
   ],
   "source": [
    "# Reemplazamos los valores de la columna \"date\" en review_df por los IDs correspondientes\n",
    "date_to_id = dates.set_index('date')['date_id'].to_dict()\n",
    "\n",
    "review_filtrado['date'] = review_filtrado['date'].dt.date.map(date_to_id)\n",
    "\n",
    "review_filtrado.rename(columns={'date': 'date_id'}, inplace = True)\n",
    "\n",
    "review_filtrado.head()"
   ]
  },
  {
   "cell_type": "code",
   "execution_count": 11,
   "id": "07378eea-b0f2-40e5-bb1a-5b062af42083",
   "metadata": {},
   "outputs": [],
   "source": [
    "# Guardar como archivo Parquet\n",
    "parquet_file_path = \"gs://data_limpia/Yelp/dates.parquet\"\n",
    "dates.to_parquet(parquet_file_path, index=False)"
   ]
  },
  {
   "cell_type": "code",
   "execution_count": 12,
   "id": "d4dab055-874a-47b2-a628-fdff117c43ce",
   "metadata": {},
   "outputs": [],
   "source": [
    "# Guardar como archivo Parquet\n",
    "parquet_file_path = \"gs://data_limpia/Yelp/review.parquet\"\n",
    "review_filtrado.to_parquet(parquet_file_path, index=False)"
   ]
  },
  {
   "cell_type": "markdown",
   "id": "f2d4bda8-bd7e-4b48-bdd3-688a804e65b5",
   "metadata": {},
   "source": [
    "# Trabajamos con el dataset User"
   ]
  },
  {
   "cell_type": "code",
   "execution_count": 13,
   "id": "3f0ba082-f703-48d0-8b6a-298e85d3dfb0",
   "metadata": {},
   "outputs": [
    {
     "data": {
      "text/plain": [
       "(2105597, 22)"
      ]
     },
     "execution_count": 13,
     "metadata": {},
     "output_type": "execute_result"
    }
   ],
   "source": [
    "parquet_file_path = \"gs://data_cruda/Yelp/user.parquet\"\n",
    "\n",
    "user = pd.read_parquet(parquet_file_path)\n",
    "user.shape"
   ]
  },
  {
   "cell_type": "code",
   "execution_count": 14,
   "id": "cadac574-2662-4fee-957a-2f49f7a0aef3",
   "metadata": {},
   "outputs": [],
   "source": [
    "user.drop_duplicates(inplace=True)"
   ]
  },
  {
   "cell_type": "code",
   "execution_count": 15,
   "id": "cd82788b-2a6b-4346-bb68-b4e812143f9f",
   "metadata": {},
   "outputs": [
    {
     "data": {
      "text/plain": [
       "(354508, 22)"
      ]
     },
     "execution_count": 15,
     "metadata": {},
     "output_type": "execute_result"
    }
   ],
   "source": [
    "user_filtrado = user[user[\"user_id\"].isin(review_filtrado[\"user_id\"])]\n",
    "user_filtrado.shape"
   ]
  },
  {
   "cell_type": "code",
   "execution_count": 16,
   "id": "764ed572-d10c-4542-b982-b921c57be53d",
   "metadata": {},
   "outputs": [
    {
     "data": {
      "text/plain": [
       "Index(['user_id', 'name', 'review_count', 'yelping_since', 'useful', 'funny',\n",
       "       'cool', 'elite', 'friends', 'fans', 'average_stars', 'compliment_hot',\n",
       "       'compliment_more', 'compliment_profile', 'compliment_cute',\n",
       "       'compliment_list', 'compliment_note', 'compliment_plain',\n",
       "       'compliment_cool', 'compliment_funny', 'compliment_writer',\n",
       "       'compliment_photos'],\n",
       "      dtype='object')"
      ]
     },
     "execution_count": 16,
     "metadata": {},
     "output_type": "execute_result"
    }
   ],
   "source": [
    "user_filtrado = user_filtrado.reindex()\n",
    "user_filtrado.columns"
   ]
  },
  {
   "cell_type": "code",
   "execution_count": 17,
   "id": "3fed9b1b-5c12-4f79-86a1-99314e6cf481",
   "metadata": {},
   "outputs": [],
   "source": [
    "#Eliminamos columnas que no se usarán\n",
    "user_filtrado.drop(columns=[ 'useful', 'funny', 'cool', 'elite', 'friends', 'fans', 'average_stars', 'compliment_hot', \\\n",
    "       'compliment_more', 'compliment_profile', 'compliment_cute', 'compliment_list', 'compliment_note', 'compliment_plain',\\\n",
    "       'compliment_cool', 'compliment_funny', 'compliment_writer', 'compliment_photos'], inplace=True)"
   ]
  },
  {
   "cell_type": "code",
   "execution_count": 18,
   "id": "6ccb8e48-aac2-40fb-bb9e-6b407e7138b3",
   "metadata": {},
   "outputs": [
    {
     "data": {
      "text/plain": [
       "Index(['user_id', 'name', 'review_count', 'yelping_since'], dtype='object')"
      ]
     },
     "execution_count": 18,
     "metadata": {},
     "output_type": "execute_result"
    }
   ],
   "source": [
    "user_filtrado.columns"
   ]
  },
  {
   "cell_type": "code",
   "execution_count": 19,
   "id": "5dc0b154-07f9-40da-9804-4a5888ea55e5",
   "metadata": {},
   "outputs": [],
   "source": [
    "user_filtrado.fillna('', inplace=True)"
   ]
  },
  {
   "cell_type": "code",
   "execution_count": 20,
   "id": "eb79faea-5241-4795-868c-924cd69a3b76",
   "metadata": {},
   "outputs": [],
   "source": [
    "# Guardar como archivo Parquet\n",
    "parquet_file_path = \"gs://data_limpia/Yelp/user.parquet\"\n",
    "user_filtrado.to_parquet(parquet_file_path, index=False)"
   ]
  },
  {
   "cell_type": "markdown",
   "id": "b99b865f-da28-4c7f-be6e-47ebb2a72201",
   "metadata": {},
   "source": [
    "# Trabajamos con el dataset Tip"
   ]
  },
  {
   "cell_type": "code",
   "execution_count": 21,
   "id": "aa93f3e1-3606-4ed0-b0fa-0a8d9fb39b58",
   "metadata": {},
   "outputs": [],
   "source": [
    "# URL del archivo parquet en Google Cloud Storage\n",
    "gcs_url = 'gs://data_cruda/Yelp/tip.json'\n",
    "\n",
    "# Leer el archivo parquet en un DataFrame de Pandas\n",
    "df_tip = pd.read_json(gcs_url, lines=True)"
   ]
  },
  {
   "cell_type": "code",
   "execution_count": 22,
   "id": "b30a494a-6fbb-496b-a6cc-65764cbbd9da",
   "metadata": {},
   "outputs": [
    {
     "data": {
      "text/plain": [
       "(908915, 5)"
      ]
     },
     "execution_count": 22,
     "metadata": {},
     "output_type": "execute_result"
    }
   ],
   "source": [
    "df_tip.shape"
   ]
  },
  {
   "cell_type": "code",
   "execution_count": 23,
   "id": "362f3e2a-2ff4-4272-b94b-2df24276b42d",
   "metadata": {},
   "outputs": [],
   "source": [
    "df_tip.drop_duplicates(inplace=True)"
   ]
  },
  {
   "cell_type": "code",
   "execution_count": 24,
   "id": "641969a8-bb66-4321-a853-3bb2f513be85",
   "metadata": {},
   "outputs": [
    {
     "name": "stdout",
     "output_type": "stream",
     "text": [
      "<class 'pandas.core.frame.DataFrame'>\n",
      "Int64Index: 293031 entries, 1 to 908914\n",
      "Data columns (total 5 columns):\n",
      " #   Column            Non-Null Count   Dtype         \n",
      "---  ------            --------------   -----         \n",
      " 0   user_id           293031 non-null  object        \n",
      " 1   business_id       293031 non-null  object        \n",
      " 2   text              293031 non-null  object        \n",
      " 3   date              293031 non-null  datetime64[ns]\n",
      " 4   compliment_count  293031 non-null  int64         \n",
      "dtypes: datetime64[ns](1), int64(1), object(3)\n",
      "memory usage: 13.4+ MB\n"
     ]
    }
   ],
   "source": [
    "tip_filtradoBus = df_tip[df_tip[\"business_id\"].isin(df_business[\"business_id\"])]\n",
    "tip_filtradoBus.info()"
   ]
  },
  {
   "cell_type": "code",
   "execution_count": 25,
   "id": "8bad7128-eb63-40a6-bd29-7671d3067c21",
   "metadata": {},
   "outputs": [
    {
     "name": "stdout",
     "output_type": "stream",
     "text": [
      "<class 'pandas.core.frame.DataFrame'>\n",
      "Int64Index: 157793 entries, 3 to 908914\n",
      "Data columns (total 5 columns):\n",
      " #   Column            Non-Null Count   Dtype         \n",
      "---  ------            --------------   -----         \n",
      " 0   user_id           157793 non-null  object        \n",
      " 1   business_id       157793 non-null  object        \n",
      " 2   text              157793 non-null  object        \n",
      " 3   date              157793 non-null  datetime64[ns]\n",
      " 4   compliment_count  157793 non-null  int64         \n",
      "dtypes: datetime64[ns](1), int64(1), object(3)\n",
      "memory usage: 7.2+ MB\n"
     ]
    }
   ],
   "source": [
    "tip_filtradoUser = tip_filtradoBus[tip_filtradoBus[\"user_id\"].isin(user_filtrado[\"user_id\"])]\n",
    "tip_filtradoUser.info()"
   ]
  },
  {
   "cell_type": "code",
   "execution_count": 26,
   "id": "3b266a3b-4ec6-4f92-ae04-870d03943819",
   "metadata": {},
   "outputs": [
    {
     "name": "stdout",
     "output_type": "stream",
     "text": [
      "                       user_id             business_id  \\\n",
      "405533  TkFfkUhNLczx5LB-uR9qaw  7EhTT4iEuA7JaaWA-eI3Qw   \n",
      "409403  TkFfkUhNLczx5LB-uR9qaw  hazg2m7sdLhP2sUD4OPLmw   \n",
      "592272  Mv6xVzDKY6fA2Ph4etpExQ  KXecZki-_3N7afs6HKWM3A   \n",
      "688539  xfOK3q6Vsj-7K7qZmby9ew  VAIOtbsxdNmuhUKkQZFRlA   \n",
      "\n",
      "                                                     text                date  \\\n",
      "405533  Seasons will close Tuesday July 26th and reope... 2016-07-24 04:26:58   \n",
      "409403  Catering is available. Make waves at your next... 2016-07-11 13:16:17   \n",
      "592272  Don't come here expecting to do a to go order!... 2016-07-12 06:15:43   \n",
      "688539                             Get the croque madame! 2011-06-25 20:08:20   \n",
      "\n",
      "        compliment_count  \n",
      "405533                 0  \n",
      "409403                 0  \n",
      "592272                 0  \n",
      "688539                 0  \n"
     ]
    }
   ],
   "source": [
    "# Identificar duplicados en el DataFrame\n",
    "duplicates = tip_filtradoUser.duplicated(subset=['user_id', 'business_id', 'date'])\n",
    "\n",
    "# Filtrar el DataFrame original para mostrar los duplicados\n",
    "duplicated_rows = tip_filtradoUser[duplicates]\n",
    "\n",
    "print(duplicated_rows)"
   ]
  },
  {
   "cell_type": "code",
   "execution_count": 27,
   "id": "b55bc075-df74-4f90-8c06-0191befcfeed",
   "metadata": {},
   "outputs": [],
   "source": [
    "tip_filtradoUser = tip_filtradoUser.reindex()\n",
    "tip_filtradoUser.drop_duplicates(subset=['user_id', 'business_id', 'date'], inplace=True)"
   ]
  },
  {
   "cell_type": "code",
   "execution_count": 28,
   "id": "453472c5-edb3-4b14-93cc-15b70dad9c68",
   "metadata": {},
   "outputs": [],
   "source": [
    "tip_filtradoUser.columns\n",
    "#Eliminamos columnas que no se usarán\n",
    "tip_filtradoUser.drop(columns=['compliment_count'], inplace=True)"
   ]
  },
  {
   "cell_type": "code",
   "execution_count": 29,
   "id": "902bcdfd-9cbd-4575-bc0c-2a7023f36b10",
   "metadata": {},
   "outputs": [],
   "source": [
    "# Guardar como archivo Parquet\n",
    "parquet_file_path = \"gs://data_limpia/Yelp/tip.parquet\"\n",
    "tip_filtradoUser.to_parquet(parquet_file_path, index=False)"
   ]
  }
 ],
 "metadata": {
  "kernelspec": {
   "display_name": "Python 3 (ipykernel)",
   "language": "python",
   "name": "python3"
  },
  "language_info": {
   "codemirror_mode": {
    "name": "ipython",
    "version": 3
   },
   "file_extension": ".py",
   "mimetype": "text/x-python",
   "name": "python",
   "nbconvert_exporter": "python",
   "pygments_lexer": "ipython3",
   "version": "3.7.12"
  }
 },
 "nbformat": 4,
 "nbformat_minor": 5
}
