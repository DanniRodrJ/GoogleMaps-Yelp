{
 "cells": [
  {
   "cell_type": "code",
   "execution_count": 1,
   "id": "f84d4816-80de-4e30-a6ce-f2136f9668ba",
   "metadata": {
    "id": "f84d4816-80de-4e30-a6ce-f2136f9668ba"
   },
   "outputs": [],
   "source": [
    "import pandas as pd\n",
    "pd.set_option('display.max_columns', None)\n",
    "import warnings\n",
    "warnings.filterwarnings(\"ignore\")\n",
    "import gcsfs\n",
    "from pandas.io.formats.format import return_docstring\n",
    "import re"
   ]
  },
  {
   "cell_type": "code",
   "execution_count": null,
   "id": "829c7895-6e67-4bb5-a963-dfad995d9220",
   "metadata": {
    "id": "829c7895-6e67-4bb5-a963-dfad995d9220"
   },
   "outputs": [],
   "source": [
    "!pip install pandas gcsfs fastparquet"
   ]
  },
  {
   "cell_type": "markdown",
   "id": "d3106e02-bef0-48d8-9298-e7725f3a0e67",
   "metadata": {
    "id": "d3106e02-bef0-48d8-9298-e7725f3a0e67",
    "tags": []
   },
   "source": [
    "### Creación de los df a partir de los parquet"
   ]
  },
  {
   "cell_type": "code",
   "execution_count": 3,
   "id": "77fda92b-88e2-475a-bc81-bb1387b18493",
   "metadata": {
    "id": "77fda92b-88e2-475a-bc81-bb1387b18493"
   },
   "outputs": [],
   "source": [
    "df_california = pd.read_parquet('gs://data_cruda/Google/California.parquet', storage_options={'token': 'cloud'})\n",
    "df_florida = pd.read_parquet('gs://data_cruda/Google/Florida.parquet', storage_options={'token': 'cloud'})\n",
    "df_pennsylvania = pd.read_parquet('gs://data_cruda/Google/Pennsylvania.parquet', storage_options={'token': 'cloud'})"
   ]
  },
  {
   "cell_type": "markdown",
   "id": "3a631a7a-aa2b-48df-b6f0-379bd7379db9",
   "metadata": {
    "id": "3a631a7a-aa2b-48df-b6f0-379bd7379db9",
    "tags": []
   },
   "source": [
    "### Transformaciones y creación del df_reviews a partir de los 3 estados"
   ]
  },
  {
   "cell_type": "code",
   "execution_count": 4,
   "id": "72131c29-f5d7-4989-b083-22d62d05e6d2",
   "metadata": {
    "id": "72131c29-f5d7-4989-b083-22d62d05e6d2"
   },
   "outputs": [],
   "source": [
    "df_california['state'] = 'CA'\n",
    "df_florida['state'] = 'FL'\n",
    "df_pennsylvania['state'] = 'PA'"
   ]
  },
  {
   "cell_type": "code",
   "execution_count": 5,
   "id": "6f6ca46c-b3a2-4948-9603-5bf6dd9fff60",
   "metadata": {
    "id": "6f6ca46c-b3a2-4948-9603-5bf6dd9fff60"
   },
   "outputs": [],
   "source": [
    "columnas_a_eliminar = ['pics', 'resp']\n",
    "df_california.drop(columnas_a_eliminar, axis=1, inplace=True)\n",
    "df_florida.drop(columnas_a_eliminar, axis=1, inplace=True)\n",
    "df_pennsylvania.drop(columnas_a_eliminar, axis=1, inplace=True)\n"
   ]
  },
  {
   "cell_type": "code",
   "execution_count": 6,
   "id": "0f7efcce-e38d-435a-8320-2ec73b8c69b0",
   "metadata": {
    "id": "0f7efcce-e38d-435a-8320-2ec73b8c69b0"
   },
   "outputs": [],
   "source": [
    "df_california['time'] = pd.to_datetime(df_california['time'], unit='ms').dt.date\n",
    "df_florida['time'] = pd.to_datetime(df_florida['time'], unit='ms').dt.date\n",
    "df_pennsylvania['time'] = pd.to_datetime(df_pennsylvania['time'], unit='ms').dt.date\n"
   ]
  },
  {
   "cell_type": "code",
   "execution_count": 7,
   "id": "79ecb84b-de69-40ef-8c37-b8729c30839d",
   "metadata": {
    "id": "79ecb84b-de69-40ef-8c37-b8729c30839d"
   },
   "outputs": [],
   "source": [
    "df_reviews = pd.concat([df_california, df_florida, df_pennsylvania], ignore_index=True)"
   ]
  },
  {
   "cell_type": "markdown",
   "id": "9b8564aa-9a3d-4892-a28f-42def0117696",
   "metadata": {
    "tags": []
   },
   "source": [
    "#### Achico la data"
   ]
  },
  {
   "cell_type": "code",
   "execution_count": 8,
   "id": "d7d78dac-7699-44a3-b8c7-6bb37f5b1911",
   "metadata": {},
   "outputs": [],
   "source": [
    "df_reviews['time'] = pd.to_datetime(df_reviews['time'])"
   ]
  },
  {
   "cell_type": "code",
   "execution_count": 9,
   "id": "f600b640-03ae-41e5-af59-2ac09dff3381",
   "metadata": {},
   "outputs": [],
   "source": [
    "df_reviews = df_reviews[df_reviews['time'].dt.year >= 2018]"
   ]
  },
  {
   "cell_type": "code",
   "execution_count": 10,
   "id": "76a73b1f-6e83-4870-be93-9ee38e9f761c",
   "metadata": {},
   "outputs": [],
   "source": [
    "conteo_por_gmap_id = df_reviews.groupby('gmap_id').size()\n",
    "gmap_id_con_mas_de_1000_registros = conteo_por_gmap_id[conteo_por_gmap_id > 1000].index\n",
    "df_reviews = df_reviews[df_reviews['gmap_id'].isin(gmap_id_con_mas_de_1000_registros)]"
   ]
  },
  {
   "cell_type": "code",
   "execution_count": 11,
   "id": "1031b277-e669-40e8-bd5d-8c689ce1e85d",
   "metadata": {},
   "outputs": [],
   "source": [
    "df_reviews.drop_duplicates(inplace=True)"
   ]
  },
  {
   "cell_type": "markdown",
   "id": "789f3f3e-fcce-48d7-9fed-366e443e7b5d",
   "metadata": {
    "id": "789f3f3e-fcce-48d7-9fed-366e443e7b5d",
    "tags": []
   },
   "source": [
    "### df_dates"
   ]
  },
  {
   "cell_type": "code",
   "execution_count": 12,
   "id": "e3b071b7-565a-49b6-9e50-85b8d34ef307",
   "metadata": {
    "id": "e3b071b7-565a-49b6-9e50-85b8d34ef307"
   },
   "outputs": [],
   "source": [
    "df_dates = pd.DataFrame({'date': df_reviews['time'].unique()})"
   ]
  },
  {
   "cell_type": "code",
   "execution_count": 13,
   "id": "33a3e270-67b6-4479-840b-b756c45f3207",
   "metadata": {},
   "outputs": [],
   "source": [
    "df_dates = df_dates.sort_values(by='date')"
   ]
  },
  {
   "cell_type": "code",
   "execution_count": 14,
   "id": "67bc2ce4-cd21-4170-ac83-47b95abaea19",
   "metadata": {
    "id": "67bc2ce4-cd21-4170-ac83-47b95abaea19"
   },
   "outputs": [],
   "source": [
    "df_dates.insert(0, 'id_date', range(1, len(df_dates) + 1))"
   ]
  },
  {
   "cell_type": "code",
   "execution_count": 15,
   "id": "821e05b5-b247-48bd-bf46-f2eda7586a61",
   "metadata": {},
   "outputs": [],
   "source": [
    "df_dates = df_dates.reset_index(drop=True)"
   ]
  },
  {
   "cell_type": "code",
   "execution_count": 16,
   "id": "7c3bf95d-27eb-461e-bd13-594defeaabb8",
   "metadata": {
    "id": "7c3bf95d-27eb-461e-bd13-594defeaabb8"
   },
   "outputs": [],
   "source": [
    "# df_dates.to_parquet('gs://data_limpia/Google/Google_dates.parquet', compression='gzip')"
   ]
  },
  {
   "cell_type": "code",
   "execution_count": 17,
   "id": "286df8eb-7f17-4822-829a-39d76d9e47d6",
   "metadata": {
    "id": "286df8eb-7f17-4822-829a-39d76d9e47d6"
   },
   "outputs": [],
   "source": [
    "df_reviews = df_reviews.merge(df_dates[['date', 'id_date']], left_on='time', right_on='date', how='left')"
   ]
  },
  {
   "cell_type": "code",
   "execution_count": 18,
   "id": "96b0db6e-b37e-4f6c-9d20-2ce108d02919",
   "metadata": {
    "id": "96b0db6e-b37e-4f6c-9d20-2ce108d02919"
   },
   "outputs": [],
   "source": [
    "df_reviews.drop(['date', 'time'], axis=1, inplace=True)"
   ]
  },
  {
   "cell_type": "markdown",
   "id": "36fcf47f-e552-4b78-8e91-30fe3e053bb4",
   "metadata": {
    "jp-MarkdownHeadingCollapsed": true,
    "tags": []
   },
   "source": [
    "#### Saco los registros de junio del 2021"
   ]
  },
  {
   "cell_type": "code",
   "execution_count": 19,
   "id": "a50e40a5-50ac-4231-b209-29cfcecdc70a",
   "metadata": {},
   "outputs": [],
   "source": [
    "boolean_mask_junio_2021 = (df_dates['date'].dt.year == 2021) & (df_dates['date'].dt.month == 6)\n",
    "id_dates_a_eliminar = df_dates.loc[boolean_mask_junio_2021, 'id_date'].tolist()\n",
    "df_reviews = df_reviews[~df_reviews['id_date'].isin(id_dates_a_eliminar)]"
   ]
  },
  {
   "cell_type": "code",
   "execution_count": 20,
   "id": "9677072d-d7de-4aa4-962c-0e1041985ac3",
   "metadata": {
    "id": "9677072d-d7de-4aa4-962c-0e1041985ac3"
   },
   "outputs": [],
   "source": [
    "df_dates = df_dates[~boolean_mask_junio_2021]"
   ]
  },
  {
   "cell_type": "markdown",
   "id": "ddf2aeb5-6c1d-4f53-91b4-09ffc769f631",
   "metadata": {
    "id": "ddf2aeb5-6c1d-4f53-91b4-09ffc769f631",
    "tags": []
   },
   "source": [
    "### Creación de df_users"
   ]
  },
  {
   "cell_type": "code",
   "execution_count": 21,
   "id": "cbce18bd-8188-4cb4-bd45-64189182f6f2",
   "metadata": {
    "id": "cbce18bd-8188-4cb4-bd45-64189182f6f2"
   },
   "outputs": [],
   "source": [
    "df_users = df_reviews[['user_id', 'name']]"
   ]
  },
  {
   "cell_type": "code",
   "execution_count": 22,
   "id": "c9c92473-d116-4442-8f15-83df7d1bd3f4",
   "metadata": {
    "id": "c9c92473-d116-4442-8f15-83df7d1bd3f4"
   },
   "outputs": [],
   "source": [
    "df_reviews.drop('name', axis=1, inplace=True)"
   ]
  },
  {
   "cell_type": "code",
   "execution_count": 23,
   "id": "3571ca73-effd-4ade-8d43-940faed5a534",
   "metadata": {},
   "outputs": [],
   "source": [
    "df_users.drop_duplicates(inplace=True)"
   ]
  },
  {
   "cell_type": "code",
   "execution_count": 24,
   "id": "35fa68c7-5362-4551-aeba-be27de79b730",
   "metadata": {
    "id": "35fa68c7-5362-4551-aeba-be27de79b730"
   },
   "outputs": [],
   "source": [
    "# df_users.to_parquet('gs://data_limpia/Google/Google_users.parquet', compression='gzip')"
   ]
  },
  {
   "cell_type": "markdown",
   "id": "d44e32cf-ec99-445a-b010-26cc25bd2570",
   "metadata": {
    "id": "d44e32cf-ec99-445a-b010-26cc25bd2570",
    "tags": []
   },
   "source": [
    "### Importación de la metadata"
   ]
  },
  {
   "cell_type": "code",
   "execution_count": 25,
   "id": "ba549077-eda5-4816-ab80-9d7dd6457dab",
   "metadata": {
    "id": "ba549077-eda5-4816-ab80-9d7dd6457dab"
   },
   "outputs": [],
   "source": [
    "df_metadata_filtrada = pd.read_parquet('gs://data_cruda/Google/metadatafinal.parquet', storage_options={'token': 'cloud'})"
   ]
  },
  {
   "cell_type": "code",
   "execution_count": 26,
   "id": "916cc03e-329a-40a3-9a5c-770f84dde6e9",
   "metadata": {
    "id": "916cc03e-329a-40a3-9a5c-770f84dde6e9"
   },
   "outputs": [],
   "source": [
    "df_metadata_filtrada.drop(['avg_rating', 'num_of_reviews', 'address', 'price', 'relative_results', 'url', 'state', 'hours', 'MISC'], axis=1, inplace=True)"
   ]
  },
  {
   "cell_type": "code",
   "execution_count": 27,
   "id": "8a115414-9bce-4e94-aa79-59c16dd5d300",
   "metadata": {
    "id": "8a115414-9bce-4e94-aa79-59c16dd5d300"
   },
   "outputs": [],
   "source": [
    "df_metadata_filtrada = df_metadata_filtrada.drop_duplicates(subset='gmap_id', keep='first')"
   ]
  },
  {
   "cell_type": "code",
   "execution_count": 28,
   "id": "928d795c-7ad8-46ef-bc58-a1b23a2a3f50",
   "metadata": {
    "id": "928d795c-7ad8-46ef-bc58-a1b23a2a3f50"
   },
   "outputs": [],
   "source": [
    "gmap_ids_en_reviews = df_reviews['gmap_id'].unique()\n",
    "df_metadata_filtrada = df_metadata_filtrada[df_metadata_filtrada['gmap_id'].isin(gmap_ids_en_reviews)]\n"
   ]
  },
  {
   "cell_type": "code",
   "execution_count": 29,
   "id": "46e527c8-852f-4fd9-8a30-a2f73fb4a1af",
   "metadata": {
    "id": "46e527c8-852f-4fd9-8a30-a2f73fb4a1af"
   },
   "outputs": [],
   "source": [
    "df_metadata_filtrada.reset_index(drop=True, inplace=True)"
   ]
  },
  {
   "cell_type": "markdown",
   "id": "b961933d-fd37-49ca-8a06-f5f6a8a4881d",
   "metadata": {
    "id": "b961933d-fd37-49ca-8a06-f5f6a8a4881d",
    "jp-MarkdownHeadingCollapsed": true,
    "tags": []
   },
   "source": [
    "### Columna MISC"
   ]
  },
  {
   "cell_type": "code",
   "execution_count": 30,
   "id": "0de24880-6583-4d28-bbad-77cf4c0d8517",
   "metadata": {
    "id": "0de24880-6583-4d28-bbad-77cf4c0d8517"
   },
   "outputs": [],
   "source": [
    "#misc = pd.DataFrame({'MISC': df_metadata_filtrada['MISC'].astype(str)})"
   ]
  },
  {
   "cell_type": "code",
   "execution_count": 31,
   "id": "a585a54a-124c-4dc5-a613-d12000be8265",
   "metadata": {
    "id": "a585a54a-124c-4dc5-a613-d12000be8265"
   },
   "outputs": [],
   "source": [
    "#misc = misc.apply(lambda x: [item.replace(\"[[\", \"[\").replace(\"(\", \"\").replace(\"[array\", \"\").replace(\"\\n \", \"\").replace(\" None\", \"\").replace(\"None\", \"\").replace(\"array\", \"\").replace(\"dtype=object\", \"\").replace(\")\", \"\").replace(\"]]\", \"]\").replace(\"], ]\", \"]\").replace(\"[ [\", \"[\").strip() for item in x])"
   ]
  },
  {
   "cell_type": "code",
   "execution_count": 32,
   "id": "0665a35c-e924-4fd3-9610-453083a4c781",
   "metadata": {
    "id": "0665a35c-e924-4fd3-9610-453083a4c781"
   },
   "outputs": [],
   "source": [
    "#misc = misc.apply(lambda x: [item.replace(\", [\", \",\").replace(\"],\", \",\").replace(\"[\", \"\").replace(\"]\", \"\").replace(\"\\n\", \"\").strip() for item in x])"
   ]
  },
  {
   "cell_type": "code",
   "execution_count": 33,
   "id": "199edeb3-edee-43b9-a509-883711535cdf",
   "metadata": {
    "id": "199edeb3-edee-43b9-a509-883711535cdf"
   },
   "outputs": [],
   "source": [
    "pd.set_option('display.max_colwidth', None)"
   ]
  },
  {
   "cell_type": "code",
   "execution_count": 34,
   "id": "31c1c0cf-bbc1-4928-8219-3b2dfa403e34",
   "metadata": {
    "id": "31c1c0cf-bbc1-4928-8219-3b2dfa403e34",
    "outputId": "81cb73e6-ac6d-4a2a-e8ba-7de8e3503581",
    "tags": []
   },
   "outputs": [],
   "source": [
    "#misc[\"MISC\"] = misc[\"MISC\"].apply(lambda x: x.split(','))\n",
    "#misc.head(2)"
   ]
  },
  {
   "cell_type": "code",
   "execution_count": 35,
   "id": "31cba71e-d5de-42cd-b6bc-118e62a230f8",
   "metadata": {
    "id": "31cba71e-d5de-42cd-b6bc-118e62a230f8"
   },
   "outputs": [],
   "source": [
    "#misc['gmap_id'] = df_metadata_filtrada['gmap_id']"
   ]
  },
  {
   "cell_type": "code",
   "execution_count": 36,
   "id": "ef3b7f09-d1d0-487a-ad29-7eba73c8798f",
   "metadata": {
    "id": "ef3b7f09-d1d0-487a-ad29-7eba73c8798f",
    "outputId": "92a70fa1-1f81-45bb-cc8c-4c8387ba6db2",
    "tags": []
   },
   "outputs": [],
   "source": [
    "#records = []\n",
    "\n",
    "#for index, row in misc.iterrows():\n",
    "    #gmap_id = row['gmap_id']\n",
    "    #misc_list = row['MISC']\n",
    "    #for item in misc_list:\n",
    "        #records.append({'gmap_id': gmap_id, 'misc': item})\n",
    "\n",
    "#df_link_misc = pd.DataFrame(records)\n",
    "\n",
    "#df_link_misc.head(2)"
   ]
  },
  {
   "cell_type": "code",
   "execution_count": 37,
   "id": "5cc915b9-a9b0-47af-b923-8ca11238cf6f",
   "metadata": {
    "id": "5cc915b9-a9b0-47af-b923-8ca11238cf6f"
   },
   "outputs": [],
   "source": [
    "#misc.reset_index(drop=True, inplace=True)"
   ]
  },
  {
   "cell_type": "code",
   "execution_count": 38,
   "id": "e12707ff-78b7-40d5-8879-73b49dd25032",
   "metadata": {
    "id": "e12707ff-78b7-40d5-8879-73b49dd25032",
    "outputId": "4dcaf248-a999-4c6f-a693-e504057e2eb7"
   },
   "outputs": [],
   "source": [
    "#MISC_2 = pd.DataFrame(misc[\"MISC\"].explode().str.strip())\n",
    "#MISC_2.head(2)"
   ]
  },
  {
   "cell_type": "code",
   "execution_count": 39,
   "id": "11940b02-bfed-48c3-9260-0baebf49b84b",
   "metadata": {
    "id": "11940b02-bfed-48c3-9260-0baebf49b84b"
   },
   "outputs": [],
   "source": [
    "#MISC_2 = MISC_2.drop_duplicates(subset='MISC', keep='first')"
   ]
  },
  {
   "cell_type": "code",
   "execution_count": 40,
   "id": "59f5ec17-00cf-44f8-8d51-3a6624ba4b09",
   "metadata": {
    "id": "59f5ec17-00cf-44f8-8d51-3a6624ba4b09",
    "outputId": "57a4d8cc-f5bc-4865-fd87-84e4bb7e8de5"
   },
   "outputs": [],
   "source": [
    "#MISC_2.tail(15)"
   ]
  },
  {
   "cell_type": "code",
   "execution_count": 41,
   "id": "257f508d-bad3-4312-a47f-be5bc3047fc5",
   "metadata": {
    "id": "257f508d-bad3-4312-a47f-be5bc3047fc5"
   },
   "outputs": [],
   "source": [
    "#MISC_2['id_misc'] = range(1, len(MISC_2) + 1)\n",
    "#MISC_2.reset_index(drop=True, inplace=True)"
   ]
  },
  {
   "cell_type": "code",
   "execution_count": 42,
   "id": "e9f90fc0-39cc-4843-84ec-280d53c8ddd8",
   "metadata": {
    "id": "e9f90fc0-39cc-4843-84ec-280d53c8ddd8"
   },
   "outputs": [],
   "source": [
    "#MISC_2.to_parquet('gs://data_clean/Google/misc.parquet', compression='gzip')"
   ]
  },
  {
   "cell_type": "code",
   "execution_count": 43,
   "id": "7e0d106a-4c1f-4ff7-ab13-a1cc2a7e50fb",
   "metadata": {
    "id": "7e0d106a-4c1f-4ff7-ab13-a1cc2a7e50fb"
   },
   "outputs": [],
   "source": [
    "#df_link_misc['misc'] = df_link_misc['misc'].str.strip()\n",
    "#MISC_2['MISC'] = MISC_2['MISC'].str.strip()"
   ]
  },
  {
   "cell_type": "code",
   "execution_count": 44,
   "id": "f71643ef-14dc-49a0-b004-3ca079f79883",
   "metadata": {
    "id": "f71643ef-14dc-49a0-b004-3ca079f79883"
   },
   "outputs": [],
   "source": [
    "#df_link_misc = df_link_misc.merge(MISC_2[['MISC', 'id_misc']], left_on='misc', right_on='MISC', how='left')"
   ]
  },
  {
   "cell_type": "code",
   "execution_count": 45,
   "id": "f9475132-73e4-4ab3-9a93-ba455ae79349",
   "metadata": {
    "id": "f9475132-73e4-4ab3-9a93-ba455ae79349"
   },
   "outputs": [],
   "source": [
    "#df_link_misc.drop('misc', axis=1, inplace=True)"
   ]
  },
  {
   "cell_type": "code",
   "execution_count": 46,
   "id": "7a26d897-514f-45a1-9495-66c1a4aa531c",
   "metadata": {
    "id": "7a26d897-514f-45a1-9495-66c1a4aa531c",
    "outputId": "38cadb19-39b5-4f65-e020-feef7f33a399"
   },
   "outputs": [],
   "source": [
    "#df_link_misc.tail(2)"
   ]
  },
  {
   "cell_type": "code",
   "execution_count": 47,
   "id": "1684c195-b4b2-4304-aa39-11f096c028bf",
   "metadata": {
    "id": "1684c195-b4b2-4304-aa39-11f096c028bf"
   },
   "outputs": [],
   "source": [
    "#df_link_misc.to_parquet('gs://data_clean/Google/link_misc.parquet', compression='gzip')\n"
   ]
  },
  {
   "cell_type": "code",
   "execution_count": 48,
   "id": "9baf08ff-4bcf-4925-a90a-b1a313c466cf",
   "metadata": {
    "id": "9baf08ff-4bcf-4925-a90a-b1a313c466cf"
   },
   "outputs": [],
   "source": [
    "#df_metadata_filtrada.drop('MISC', axis=1, inplace=True)"
   ]
  },
  {
   "cell_type": "markdown",
   "id": "d1c980c6-13e8-42e4-b64a-7a9ef5341793",
   "metadata": {
    "id": "d1c980c6-13e8-42e4-b64a-7a9ef5341793",
    "jp-MarkdownHeadingCollapsed": true,
    "tags": []
   },
   "source": [
    "### Columna hours"
   ]
  },
  {
   "cell_type": "code",
   "execution_count": 49,
   "id": "6bae9437-1b44-41f9-b87c-6e467ae106b0",
   "metadata": {
    "id": "6bae9437-1b44-41f9-b87c-6e467ae106b0"
   },
   "outputs": [],
   "source": [
    "#df_metadata_filtrada['id_hours'] = range(1, len(df_metadata_filtrada) + 1)\n"
   ]
  },
  {
   "cell_type": "code",
   "execution_count": 50,
   "id": "a6de0eff-575c-4642-ae03-fe5a5e28c602",
   "metadata": {
    "id": "a6de0eff-575c-4642-ae03-fe5a5e28c602"
   },
   "outputs": [],
   "source": [
    "#tabla_hours = df_metadata_filtrada[['hours', 'id_hours']]"
   ]
  },
  {
   "cell_type": "code",
   "execution_count": 51,
   "id": "5c3eda25-5fc9-402a-9c36-3b3686f44539",
   "metadata": {
    "id": "5c3eda25-5fc9-402a-9c36-3b3686f44539",
    "outputId": "f9e04ee4-14e4-4050-b53f-e2bf750f538f"
   },
   "outputs": [],
   "source": [
    "#tabla_hours.head(2)"
   ]
  },
  {
   "cell_type": "code",
   "execution_count": 52,
   "id": "168c51f3-d4ad-44de-8b2a-029c1acbbe62",
   "metadata": {
    "id": "168c51f3-d4ad-44de-8b2a-029c1acbbe62"
   },
   "outputs": [],
   "source": [
    "#hours_complete = tabla_hours[tabla_hours['hours'].notnull()]"
   ]
  },
  {
   "cell_type": "code",
   "execution_count": 53,
   "id": "2081083f-8f7c-4e52-ae9b-a7a62acc9e12",
   "metadata": {
    "id": "2081083f-8f7c-4e52-ae9b-a7a62acc9e12",
    "outputId": "299f1ca0-c2d7-4fbf-9f6e-8002b5972e3e"
   },
   "outputs": [],
   "source": [
    "#hours_complete.shape[0]"
   ]
  },
  {
   "cell_type": "code",
   "execution_count": 54,
   "id": "04a3bc81-a633-4236-8723-608dd9e0a255",
   "metadata": {
    "id": "04a3bc81-a633-4236-8723-608dd9e0a255",
    "outputId": "3e9c320f-6601-4019-8089-38a9a170b012"
   },
   "outputs": [],
   "source": [
    "# Crear una lista vacía para almacenar los resultados\n",
    "#horarios = []\n",
    "\n",
    "# Lista de días de la semana\n",
    "#dias_semana = ['Monday', 'Tuesday', 'Wednesday', 'Thursday', 'Friday', 'Saturday', 'Sunday']\n",
    "\n",
    "# Iterar sobre cada registro de horas en hours_complete['hours']\n",
    "#for registros_horas, id_registro in zip(hours_complete['hours'], hours_complete['id_hours']):\n",
    "    # Crear un diccionario vacío para almacenar los horarios del registro actual\n",
    "    #horarios_registro = {}\n",
    "\n",
    "    # Iterar sobre cada registro en el array de registros de horas\n",
    "    #for registro in registros_horas:\n",
    "        # Obtener el día de la semana y el horario\n",
    "        #dia_semana = registro[0]\n",
    "        #horario = registro[1]\n",
    "\n",
    "        # Agregar el horario al diccionario de horarios del registro actual\n",
    "        #horarios_registro[dia_semana] = horario\n",
    "\n",
    "    # Agregar el diccionario de horarios del registro actual a la lista de horarios\n",
    "    #horarios.append([id_registro] + [horarios_registro.get(dia, '') for dia in dias_semana])\n",
    "\n",
    "# Crear un DataFrame a partir de la lista de horarios\n",
    "#horarios_df = pd.DataFrame(horarios, columns=['id_hours'] + dias_semana)\n",
    "\n",
    "# Imprimir el DataFrame de resultados\n",
    "#horarios_df.head(4)"
   ]
  },
  {
   "cell_type": "code",
   "execution_count": 55,
   "id": "8a63aaeb-93bc-45dc-8a06-06c7c89e9fc5",
   "metadata": {
    "id": "8a63aaeb-93bc-45dc-8a06-06c7c89e9fc5"
   },
   "outputs": [],
   "source": [
    "#tabla_hours = pd.merge(tabla_hours, horarios_df, on='id_hours', how = 'left')"
   ]
  },
  {
   "cell_type": "code",
   "execution_count": 56,
   "id": "38a3dd2a-ac35-4f0a-a152-3df657b4328f",
   "metadata": {
    "id": "38a3dd2a-ac35-4f0a-a152-3df657b4328f"
   },
   "outputs": [],
   "source": [
    "#tabla_hours.drop('hours', axis = 1, inplace = True)"
   ]
  },
  {
   "cell_type": "code",
   "execution_count": 57,
   "id": "6302a08b-385f-47ec-979f-d5ed6691e0a7",
   "metadata": {
    "id": "6302a08b-385f-47ec-979f-d5ed6691e0a7"
   },
   "outputs": [],
   "source": [
    "# Función para transformar los registros a formato deseado\n",
    "#def transformar_horarios(horario):\n",
    "\n",
    "    #if horario == \"Open 24 hours\" or horario == \"Closed\" or pd.isnull(horario):\n",
    "      #return horario\n",
    "\n",
    "    # Utilizar expresiones regulares para extraer las partes del horario\n",
    "    #patron = r\"(\\d{1,2})(:)?(\\d{2})?([APM]+)?\\u2013?(\\d{1,2})?(:)?(\\d{2})?([APM]+)?\"\n",
    "    #coincidencia = re.match(patron, horario)\n",
    "\n",
    "    #if coincidencia:\n",
    "      #hora_inicio = coincidencia.group(1)\n",
    "      #minutos_inicio = coincidencia.group(3)\n",
    "      #am_pm_inicio = coincidencia.group(4)\n",
    "      #hora_fin = coincidencia.group(5)\n",
    "      #minutos_fin = coincidencia.group(7)\n",
    "      #am_pm_fin = coincidencia.group(8)\n",
    "\n",
    "      # Formatear la hora de inicio\n",
    "      #if hora_inicio:\n",
    "        #if len(hora_inicio) < 2:\n",
    "          #hora_inicio = f\"0{hora_inicio}\"\n",
    "        #if minutos_inicio:\n",
    "          #if len(minutos_inicio) < 2:\n",
    "            #minutos_inicio = f\"{minutos_inicio}0\"\n",
    "        #else:\n",
    "          #minutos_inicio = f\"00\"\n",
    "        #if am_pm_inicio:\n",
    "          #am_pm_inicio = am_pm_inicio.upper()\n",
    "        #else:\n",
    "          #if int(hora_inicio) == 12:\n",
    "            #am_pm_inicio = f\"PM\"\n",
    "          #else:\n",
    "            #if am_pm_fin == \"AM\":\n",
    "              #am_pm_inicio = f\"AM\"\n",
    "            #else:\n",
    "              #am_pm_inicio = f\"PM\"\n",
    "\n",
    "        #hora_total_inicio = f\"{hora_inicio}:{minutos_inicio}{am_pm_inicio}\"\n",
    "      #else:\n",
    "        #hora_inicio = \"\"\n",
    "\n",
    "      # Formatear la hora de fin\n",
    "      #if hora_fin:\n",
    "        #if len(hora_fin) < 2:\n",
    "          #hora_fin = f\"0{hora_fin}\"\n",
    "        #if minutos_fin:\n",
    "          #if len(minutos_fin) < 2:\n",
    "            #minutos_fin = f\"{minutos_fin}0\"\n",
    "        #else:\n",
    "          #minutos_fin = f\"00\"\n",
    "        #if am_pm_fin:\n",
    "          #am_pm_fin = am_pm_fin.upper()\n",
    "        #else:\n",
    "          #am_pm_fin = f\"PM\"\n",
    "\n",
    "        #hora_total_fin = f\"{hora_fin}:{minutos_fin}{am_pm_fin}\"\n",
    "      #else:\n",
    "        #hora_fin = \"\"\n",
    "\n",
    "      # Formatear el horario en el formato deseado\n",
    "      #horario_transformado = f\"{hora_total_inicio}\\u2013{hora_total_fin}\"\n",
    "      #return horario_transformado\n",
    "\n",
    "    #return horario"
   ]
  },
  {
   "cell_type": "code",
   "execution_count": 58,
   "id": "94b944a9-6e76-4501-95ab-320cf970ba51",
   "metadata": {
    "id": "94b944a9-6e76-4501-95ab-320cf970ba51"
   },
   "outputs": [],
   "source": [
    "#tabla_hours[['Monday', 'Tuesday', 'Wednesday', 'Thursday', 'Friday', 'Saturday', 'Sunday']] = tabla_hours[['Monday', 'Tuesday', 'Wednesday', 'Thursday', 'Friday', 'Saturday', 'Sunday']].applymap(transformar_horarios)"
   ]
  },
  {
   "cell_type": "code",
   "execution_count": 59,
   "id": "432c4399-5c5c-46f1-b84f-f98daa2dfc8b",
   "metadata": {
    "id": "432c4399-5c5c-46f1-b84f-f98daa2dfc8b",
    "outputId": "ba526cd9-7c48-43ca-a3d3-4da8dc2c8776"
   },
   "outputs": [],
   "source": [
    "#tabla_hours.fillna('')"
   ]
  },
  {
   "cell_type": "code",
   "execution_count": 61,
   "id": "5a45ad74-1450-4194-8135-a0963d6ee740",
   "metadata": {
    "id": "5a45ad74-1450-4194-8135-a0963d6ee740"
   },
   "outputs": [],
   "source": [
    "# tabla_hours['description'] = (\n",
    "#     'Monday ' + tabla_hours['Monday'] + ', ' +\n",
    "#     'Tuesday ' + tabla_hours['Tuesday'] + ', ' +\n",
    "#     'Wednesday ' + tabla_hours['Wednesday'] + ', ' +\n",
    "#     'Thursday ' + tabla_hours['Thursday'] + ', ' +\n",
    "#     'Friday ' + tabla_hours['Friday'] + ', ' +\n",
    "#     'Saturday ' + tabla_hours['Saturday'] + ', ' +\n",
    "#     'Sunday ' + tabla_hours['Sunday']\n",
    "# )"
   ]
  },
  {
   "cell_type": "code",
   "execution_count": null,
   "id": "0c2c3c10-e1d4-48ec-a8b3-1a8befb7311b",
   "metadata": {
    "id": "0c2c3c10-e1d4-48ec-a8b3-1a8befb7311b"
   },
   "outputs": [],
   "source": [
    "# tabla_hours = tabla_hours.drop(columns=['Monday', 'Tuesday', 'Wednesday', 'Thursday', 'Friday', 'Saturday', 'Sunday'], axis=1)"
   ]
  },
  {
   "cell_type": "code",
   "execution_count": null,
   "id": "eea9809d-9d2b-403b-a487-15c10435033b",
   "metadata": {
    "id": "eea9809d-9d2b-403b-a487-15c10435033b"
   },
   "outputs": [],
   "source": [
    "# df_metadata_filtrada.drop('hours', axis=1, inplace=True)"
   ]
  },
  {
   "cell_type": "code",
   "execution_count": null,
   "id": "e7205911-f0c5-40eb-baac-007396e6f5bd",
   "metadata": {
    "id": "e7205911-f0c5-40eb-baac-007396e6f5bd"
   },
   "outputs": [],
   "source": [
    "# tabla_hours.rename(columns={'description': 'schedule'}, inplace=True)"
   ]
  },
  {
   "cell_type": "code",
   "execution_count": null,
   "id": "f9290f79-b652-44bd-a5c9-da604d18ae8c",
   "metadata": {
    "id": "f9290f79-b652-44bd-a5c9-da604d18ae8c"
   },
   "outputs": [],
   "source": [
    "# df_metadata_filtrada = df_metadata_filtrada.merge(tabla_hours[['id_hours', 'schedule']], on='id_hours', how='left')"
   ]
  },
  {
   "cell_type": "code",
   "execution_count": null,
   "id": "3ef3bec3-5541-490f-8205-e0675b9a01b3",
   "metadata": {
    "id": "3ef3bec3-5541-490f-8205-e0675b9a01b3"
   },
   "outputs": [],
   "source": [
    "# tabla_hours = tabla_hours.drop_duplicates(subset=['schedule'])"
   ]
  },
  {
   "cell_type": "code",
   "execution_count": null,
   "id": "85c79a25-87ea-4c1d-99ce-e2e104a5d2b9",
   "metadata": {
    "id": "85c79a25-87ea-4c1d-99ce-e2e104a5d2b9"
   },
   "outputs": [],
   "source": [
    "# tabla_hours = tabla_hours.reset_index(drop=True)\n",
    "# tabla_hours['id_hours'] = tabla_hours.index + 1"
   ]
  },
  {
   "cell_type": "code",
   "execution_count": null,
   "id": "1f616153-db58-489b-951b-cc49fb6a9da5",
   "metadata": {
    "id": "1f616153-db58-489b-951b-cc49fb6a9da5"
   },
   "outputs": [],
   "source": [
    "# df_metadata_filtrada = df_metadata_filtrada.merge(tabla_hours[['id_hours', 'schedule']], on='schedule', how='left')"
   ]
  },
  {
   "cell_type": "code",
   "execution_count": null,
   "id": "92f014e2-9218-4d6a-bd28-0a4ebe05ac31",
   "metadata": {
    "id": "92f014e2-9218-4d6a-bd28-0a4ebe05ac31"
   },
   "outputs": [],
   "source": [
    "# df_metadata_filtrada.drop(['schedule', 'id_hours_x'], axis=1, inplace=True)"
   ]
  },
  {
   "cell_type": "code",
   "execution_count": null,
   "id": "8f248c79-5f61-4307-b871-e64bdf323687",
   "metadata": {
    "id": "8f248c79-5f61-4307-b871-e64bdf323687"
   },
   "outputs": [],
   "source": [
    "# df_metadata_filtrada.rename(columns={'id_hours_y': 'id_hours'}, inplace=True)"
   ]
  },
  {
   "cell_type": "code",
   "execution_count": null,
   "id": "737ed6da-48b4-4ec7-9fe6-61ee637d42f9",
   "metadata": {
    "id": "737ed6da-48b4-4ec7-9fe6-61ee637d42f9"
   },
   "outputs": [],
   "source": [
    "#tabla_hours.to_parquet('gs://data_clean/Google/schedule.parquet', compression='gzip')\n"
   ]
  },
  {
   "cell_type": "markdown",
   "id": "4eee6ab4-1aa6-442c-b2bb-5595d1950705",
   "metadata": {
    "id": "4eee6ab4-1aa6-442c-b2bb-5595d1950705",
    "jp-MarkdownHeadingCollapsed": true,
    "tags": []
   },
   "source": [
    "### Columna category"
   ]
  },
  {
   "cell_type": "code",
   "execution_count": 62,
   "id": "9903917b-b3a6-43db-aefe-7f60456e439a",
   "metadata": {
    "id": "9903917b-b3a6-43db-aefe-7f60456e439a"
   },
   "outputs": [],
   "source": [
    "df_metadata_category = df_metadata_filtrada[['gmap_id', 'category']]"
   ]
  },
  {
   "cell_type": "code",
   "execution_count": 63,
   "id": "2542d9b4-6ff1-48f2-9e32-90b6c126fd41",
   "metadata": {
    "id": "2542d9b4-6ff1-48f2-9e32-90b6c126fd41",
    "outputId": "3592b1b8-b373-439c-808e-ddd493f179f2"
   },
   "outputs": [
    {
     "data": {
      "text/html": [
       "<div>\n",
       "<style scoped>\n",
       "    .dataframe tbody tr th:only-of-type {\n",
       "        vertical-align: middle;\n",
       "    }\n",
       "\n",
       "    .dataframe tbody tr th {\n",
       "        vertical-align: top;\n",
       "    }\n",
       "\n",
       "    .dataframe thead th {\n",
       "        text-align: right;\n",
       "    }\n",
       "</style>\n",
       "<table border=\"1\" class=\"dataframe\">\n",
       "  <thead>\n",
       "    <tr style=\"text-align: right;\">\n",
       "      <th></th>\n",
       "      <th>description</th>\n",
       "      <th>id_cat</th>\n",
       "    </tr>\n",
       "  </thead>\n",
       "  <tbody>\n",
       "    <tr>\n",
       "      <th>0</th>\n",
       "      <td>Department store</td>\n",
       "      <td>1</td>\n",
       "    </tr>\n",
       "    <tr>\n",
       "      <th>1</th>\n",
       "      <td>Clothing store</td>\n",
       "      <td>2</td>\n",
       "    </tr>\n",
       "    <tr>\n",
       "      <th>2</th>\n",
       "      <td>Craft store</td>\n",
       "      <td>3</td>\n",
       "    </tr>\n",
       "    <tr>\n",
       "      <th>3</th>\n",
       "      <td>Electronics store</td>\n",
       "      <td>4</td>\n",
       "    </tr>\n",
       "    <tr>\n",
       "      <th>4</th>\n",
       "      <td>Furniture store</td>\n",
       "      <td>5</td>\n",
       "    </tr>\n",
       "  </tbody>\n",
       "</table>\n",
       "</div>"
      ],
      "text/plain": [
       "         description  id_cat\n",
       "0   Department store       1\n",
       "1     Clothing store       2\n",
       "2        Craft store       3\n",
       "3  Electronics store       4\n",
       "4    Furniture store       5"
      ]
     },
     "execution_count": 63,
     "metadata": {},
     "output_type": "execute_result"
    }
   ],
   "source": [
    "# Convertir la lista de categorías en cadenas\n",
    "df_metadata_category['category'] = df_metadata_category['category'].apply(', '.join)\n",
    "\n",
    "# Dividir las categorías en columnas separadas\n",
    "categories_df = df_metadata_category['category'].str.split(', ', expand=True)\n",
    "\n",
    "# Apilar las columnas en una sola columna 'description'\n",
    "categories_stacked = categories_df.stack().reset_index(level=1, drop=True).rename('description')\n",
    "\n",
    "# Crear un DataFrame con descripciones únicas y asignar IDs\n",
    "df_categories = pd.DataFrame({'description': categories_stacked.unique()}).reset_index(drop=True)\n",
    "df_categories['id_cat'] = df_categories.index + 1\n",
    "\n",
    "# Mostrar el nuevo DataFrame con IDs asignados a las categorías\n",
    "df_categories.head()\n"
   ]
  },
  {
   "cell_type": "code",
   "execution_count": 64,
   "id": "aad4e07c-6129-4c01-9ba0-39f5a77e9a6a",
   "metadata": {
    "id": "aad4e07c-6129-4c01-9ba0-39f5a77e9a6a"
   },
   "outputs": [
    {
     "data": {
      "text/html": [
       "<div>\n",
       "<style scoped>\n",
       "    .dataframe tbody tr th:only-of-type {\n",
       "        vertical-align: middle;\n",
       "    }\n",
       "\n",
       "    .dataframe tbody tr th {\n",
       "        vertical-align: top;\n",
       "    }\n",
       "\n",
       "    .dataframe thead th {\n",
       "        text-align: right;\n",
       "    }\n",
       "</style>\n",
       "<table border=\"1\" class=\"dataframe\">\n",
       "  <thead>\n",
       "    <tr style=\"text-align: right;\">\n",
       "      <th></th>\n",
       "      <th>gmap_id</th>\n",
       "      <th>id_cat</th>\n",
       "    </tr>\n",
       "  </thead>\n",
       "  <tbody>\n",
       "    <tr>\n",
       "      <th>2448</th>\n",
       "      <td>0x80dc755aa2b28be1:0x51e22e4c135aeec9</td>\n",
       "      <td>279</td>\n",
       "    </tr>\n",
       "    <tr>\n",
       "      <th>2449</th>\n",
       "      <td>0x80dc755aa2b28be1:0x51e22e4c135aeec9</td>\n",
       "      <td>44</td>\n",
       "    </tr>\n",
       "    <tr>\n",
       "      <th>2450</th>\n",
       "      <td>0x80dc755aa2b28be1:0x51e22e4c135aeec9</td>\n",
       "      <td>46</td>\n",
       "    </tr>\n",
       "    <tr>\n",
       "      <th>2451</th>\n",
       "      <td>0x80dc755aa2b28be1:0x51e22e4c135aeec9</td>\n",
       "      <td>280</td>\n",
       "    </tr>\n",
       "    <tr>\n",
       "      <th>2452</th>\n",
       "      <td>0x80dc755aa2b28be1:0x51e22e4c135aeec9</td>\n",
       "      <td>47</td>\n",
       "    </tr>\n",
       "  </tbody>\n",
       "</table>\n",
       "</div>"
      ],
      "text/plain": [
       "                                    gmap_id  id_cat\n",
       "2448  0x80dc755aa2b28be1:0x51e22e4c135aeec9     279\n",
       "2449  0x80dc755aa2b28be1:0x51e22e4c135aeec9      44\n",
       "2450  0x80dc755aa2b28be1:0x51e22e4c135aeec9      46\n",
       "2451  0x80dc755aa2b28be1:0x51e22e4c135aeec9     280\n",
       "2452  0x80dc755aa2b28be1:0x51e22e4c135aeec9      47"
      ]
     },
     "execution_count": 64,
     "metadata": {},
     "output_type": "execute_result"
    }
   ],
   "source": [
    "# Dividir las categorías en columnas separadas en df_metadata_category\n",
    "categories_df = df_metadata_category['category'].str.split(', ', expand=True)\n",
    "\n",
    "# Reorganizar el índice para mantener 'gmap_id'\n",
    "categories_df['gmap_id'] = df_metadata_category['gmap_id']\n",
    "categories_df = categories_df.set_index('gmap_id')\n",
    "\n",
    "# Apilar las columnas en una sola columna 'description' y resetear el índice\n",
    "categories_stacked = categories_df.stack().reset_index(level=1, drop=True).rename('description')\n",
    "\n",
    "# Asignar 'id_cat' a cada 'description' en df_categories\n",
    "categories_mapping = df_categories.set_index('description')['id_cat']\n",
    "\n",
    "# Crear 'id_cat' en categories_stacked usando el mapeo\n",
    "categories_stacked = categories_stacked.map(categories_mapping)\n",
    "\n",
    "# Crear df_link_cat a partir de la serie resultante\n",
    "df_link_cat = pd.DataFrame({'id_cat': categories_stacked}).reset_index()\n",
    "\n",
    "# Mostrar el nuevo DataFrame df_link_cat\n",
    "df_link_cat.tail()\n"
   ]
  },
  {
   "cell_type": "code",
   "execution_count": 65,
   "id": "098f621a-036d-46eb-a04e-61168ee20a9a",
   "metadata": {
    "id": "098f621a-036d-46eb-a04e-61168ee20a9a"
   },
   "outputs": [],
   "source": [
    "df_metadata_filtrada.drop('category', axis=1, inplace=True)"
   ]
  },
  {
   "cell_type": "code",
   "execution_count": 66,
   "id": "217832e7-a8b1-41cf-9233-1a73ac179332",
   "metadata": {
    "id": "217832e7-a8b1-41cf-9233-1a73ac179332"
   },
   "outputs": [],
   "source": [
    "# df_categories.to_parquet('gs://data_limpia/Google/Google_categories.parquet', compression='gzip')\n",
    "# df_link_cat.to_parquet('gs://data_limpia/Google/Google_link_cat.parquet', compression='gzip')"
   ]
  },
  {
   "cell_type": "markdown",
   "id": "29df9909-82b0-428e-93b2-1d1e2b4beb73",
   "metadata": {
    "id": "29df9909-82b0-428e-93b2-1d1e2b4beb73",
    "tags": []
   },
   "source": [
    "### Exporto ```businesses``` y ```reviews```"
   ]
  },
  {
   "cell_type": "code",
   "execution_count": 67,
   "id": "b766e6c3-13b2-4c36-9056-bb45972b0248",
   "metadata": {
    "id": "b766e6c3-13b2-4c36-9056-bb45972b0248"
   },
   "outputs": [],
   "source": [
    "# df_metadata_filtrada.to_parquet('gs://data_limpia/Google/Google_bussines.parquet', compression='gzip')"
   ]
  },
  {
   "cell_type": "code",
   "execution_count": 68,
   "id": "c4dc3d52-962c-4804-8ed3-689ef9870f03",
   "metadata": {},
   "outputs": [],
   "source": [
    "df_reviews = df_reviews[['gmap_id', 'user_id', 'rating', 'text', 'id_date' ,'state']]"
   ]
  },
  {
   "cell_type": "code",
   "execution_count": 69,
   "id": "0f8cdfe5-7104-4ae0-a41b-7b2d375d71cd",
   "metadata": {},
   "outputs": [],
   "source": [
    "# df_reviews.to_parquet('gs://data_limpia/Google/Google_reviews.parquet', compression='gzip')"
   ]
  },
  {
   "cell_type": "code",
   "execution_count": 74,
   "id": "dbdfeb57-b303-438b-b82f-6a864e1acb12",
   "metadata": {},
   "outputs": [
    {
     "data": {
      "text/html": [
       "<div>\n",
       "<style scoped>\n",
       "    .dataframe tbody tr th:only-of-type {\n",
       "        vertical-align: middle;\n",
       "    }\n",
       "\n",
       "    .dataframe tbody tr th {\n",
       "        vertical-align: top;\n",
       "    }\n",
       "\n",
       "    .dataframe thead th {\n",
       "        text-align: right;\n",
       "    }\n",
       "</style>\n",
       "<table border=\"1\" class=\"dataframe\">\n",
       "  <thead>\n",
       "    <tr style=\"text-align: right;\">\n",
       "      <th></th>\n",
       "      <th>user_id</th>\n",
       "      <th>name</th>\n",
       "    </tr>\n",
       "  </thead>\n",
       "  <tbody>\n",
       "    <tr>\n",
       "      <th>6619</th>\n",
       "      <td>1.084746e+20</td>\n",
       "      <td>A</td>\n",
       "    </tr>\n",
       "    <tr>\n",
       "      <th>6688</th>\n",
       "      <td>1.042561e+20</td>\n",
       "      <td>A</td>\n",
       "    </tr>\n",
       "    <tr>\n",
       "      <th>33098</th>\n",
       "      <td>1.110277e+20</td>\n",
       "      <td>A</td>\n",
       "    </tr>\n",
       "    <tr>\n",
       "      <th>122559</th>\n",
       "      <td>1.159501e+20</td>\n",
       "      <td>A</td>\n",
       "    </tr>\n",
       "    <tr>\n",
       "      <th>168872</th>\n",
       "      <td>1.149099e+20</td>\n",
       "      <td>A</td>\n",
       "    </tr>\n",
       "    <tr>\n",
       "      <th>178610</th>\n",
       "      <td>1.076594e+20</td>\n",
       "      <td>A</td>\n",
       "    </tr>\n",
       "    <tr>\n",
       "      <th>203128</th>\n",
       "      <td>1.063958e+20</td>\n",
       "      <td>A</td>\n",
       "    </tr>\n",
       "    <tr>\n",
       "      <th>278280</th>\n",
       "      <td>1.151660e+20</td>\n",
       "      <td>A</td>\n",
       "    </tr>\n",
       "    <tr>\n",
       "      <th>313934</th>\n",
       "      <td>1.008034e+20</td>\n",
       "      <td>A</td>\n",
       "    </tr>\n",
       "    <tr>\n",
       "      <th>319118</th>\n",
       "      <td>1.124435e+20</td>\n",
       "      <td>A</td>\n",
       "    </tr>\n",
       "    <tr>\n",
       "      <th>354890</th>\n",
       "      <td>1.040724e+20</td>\n",
       "      <td>A</td>\n",
       "    </tr>\n",
       "    <tr>\n",
       "      <th>413816</th>\n",
       "      <td>1.029312e+20</td>\n",
       "      <td>A</td>\n",
       "    </tr>\n",
       "    <tr>\n",
       "      <th>528631</th>\n",
       "      <td>1.085644e+20</td>\n",
       "      <td>A</td>\n",
       "    </tr>\n",
       "    <tr>\n",
       "      <th>530262</th>\n",
       "      <td>1.133306e+20</td>\n",
       "      <td>A</td>\n",
       "    </tr>\n",
       "    <tr>\n",
       "      <th>569064</th>\n",
       "      <td>1.066258e+20</td>\n",
       "      <td>A</td>\n",
       "    </tr>\n",
       "    <tr>\n",
       "      <th>603622</th>\n",
       "      <td>1.164124e+20</td>\n",
       "      <td>A</td>\n",
       "    </tr>\n",
       "    <tr>\n",
       "      <th>633524</th>\n",
       "      <td>1.073813e+20</td>\n",
       "      <td>A</td>\n",
       "    </tr>\n",
       "    <tr>\n",
       "      <th>671378</th>\n",
       "      <td>1.022753e+20</td>\n",
       "      <td>A</td>\n",
       "    </tr>\n",
       "    <tr>\n",
       "      <th>678273</th>\n",
       "      <td>1.090765e+20</td>\n",
       "      <td>A</td>\n",
       "    </tr>\n",
       "    <tr>\n",
       "      <th>716481</th>\n",
       "      <td>1.008357e+20</td>\n",
       "      <td>A</td>\n",
       "    </tr>\n",
       "    <tr>\n",
       "      <th>737227</th>\n",
       "      <td>1.178190e+20</td>\n",
       "      <td>A</td>\n",
       "    </tr>\n",
       "    <tr>\n",
       "      <th>743337</th>\n",
       "      <td>1.166811e+20</td>\n",
       "      <td>A</td>\n",
       "    </tr>\n",
       "    <tr>\n",
       "      <th>744370</th>\n",
       "      <td>1.095333e+20</td>\n",
       "      <td>A</td>\n",
       "    </tr>\n",
       "    <tr>\n",
       "      <th>797293</th>\n",
       "      <td>1.085735e+20</td>\n",
       "      <td>A</td>\n",
       "    </tr>\n",
       "  </tbody>\n",
       "</table>\n",
       "</div>"
      ],
      "text/plain": [
       "             user_id name\n",
       "6619    1.084746e+20    A\n",
       "6688    1.042561e+20    A\n",
       "33098   1.110277e+20    A\n",
       "122559  1.159501e+20    A\n",
       "168872  1.149099e+20    A\n",
       "178610  1.076594e+20    A\n",
       "203128  1.063958e+20    A\n",
       "278280  1.151660e+20    A\n",
       "313934  1.008034e+20    A\n",
       "319118  1.124435e+20    A\n",
       "354890  1.040724e+20    A\n",
       "413816  1.029312e+20    A\n",
       "528631  1.085644e+20    A\n",
       "530262  1.133306e+20    A\n",
       "569064  1.066258e+20    A\n",
       "603622  1.164124e+20    A\n",
       "633524  1.073813e+20    A\n",
       "671378  1.022753e+20    A\n",
       "678273  1.090765e+20    A\n",
       "716481  1.008357e+20    A\n",
       "737227  1.178190e+20    A\n",
       "743337  1.166811e+20    A\n",
       "744370  1.095333e+20    A\n",
       "797293  1.085735e+20    A"
      ]
     },
     "execution_count": 74,
     "metadata": {},
     "output_type": "execute_result"
    }
   ],
   "source": [
    "df_users[df_users['name'] == 'A']"
   ]
  },
  {
   "cell_type": "code",
   "execution_count": null,
   "id": "fde2c28a-f4ab-4ca4-982e-11871f7848c1",
   "metadata": {},
   "outputs": [],
   "source": []
  }
 ],
 "metadata": {
  "colab": {
   "provenance": []
  },
  "kernelspec": {
   "display_name": "Python 3 (ipykernel)",
   "language": "python",
   "name": "python3"
  },
  "language_info": {
   "codemirror_mode": {
    "name": "ipython",
    "version": 3
   },
   "file_extension": ".py",
   "mimetype": "text/x-python",
   "name": "python",
   "nbconvert_exporter": "python",
   "pygments_lexer": "ipython3",
   "version": "3.7.12"
  }
 },
 "nbformat": 4,
 "nbformat_minor": 5
}
